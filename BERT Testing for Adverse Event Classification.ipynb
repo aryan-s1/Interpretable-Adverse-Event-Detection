{
 "cells": [
  {
   "cell_type": "code",
   "execution_count": null,
   "id": "124aa19e-0bc2-4ba3-8e0a-e234c05da7f5",
   "metadata": {},
   "outputs": [],
   "source": [
    "from google.colab import drive\n",
    "drive.mount('/content/drive/')"
   ]
  },
  {
   "cell_type": "code",
   "execution_count": null,
   "id": "15ca8f8b-69d0-46e5-aa23-f674d3e46df2",
   "metadata": {},
   "outputs": [],
   "source": [
    "import os\n",
    "\n",
    "drive_path = '/content/drive/MyDrive/BERT_for_Disaster_Classification'\n",
    "print(os.listdir(drive_path))"
   ]
  },
  {
   "cell_type": "code",
   "execution_count": null,
   "id": "d03b1095-f5bc-4659-9fb5-897a3ff32a83",
   "metadata": {},
   "outputs": [],
   "source": [
    "db_path = '/content/drive/MyDrive/BERT_for_Disaster_Classification/Disaster_Tweets_Project/validation_dataset.csv'"
   ]
  },
  {
   "cell_type": "code",
   "execution_count": null,
   "id": "9484b385-b5be-4e86-a968-b4f965a79efd",
   "metadata": {},
   "outputs": [],
   "source": [
    "import pandas as pd\n",
    "\n",
    "df = pd.read_csv(db_path)\n",
    "\n",
    "df['text'] = df['text'].fillna('')\n",
    "df.shape"
   ]
  },
  {
   "cell_type": "code",
   "execution_count": 4,
   "id": "tWNUHXsQ2bqh",
   "metadata": {
    "colab": {
     "base_uri": "https://localhost:8080/",
     "height": 206
    },
    "executionInfo": {
     "elapsed": 93,
     "status": "ok",
     "timestamp": 1740177432184,
     "user": {
      "displayName": "Aryan Shrestha",
      "userId": "04752409712150908585"
     },
     "user_tz": 300
    },
    "id": "tWNUHXsQ2bqh",
    "outputId": "9ddc26b2-d808-4340-99f7-1ff4366e98bc"
   },
   "outputs": [
    {
     "data": {
      "text/html": [
       "<div>\n",
       "<style scoped>\n",
       "    .dataframe tbody tr th:only-of-type {\n",
       "        vertical-align: middle;\n",
       "    }\n",
       "\n",
       "    .dataframe tbody tr th {\n",
       "        vertical-align: top;\n",
       "    }\n",
       "\n",
       "    .dataframe thead th {\n",
       "        text-align: right;\n",
       "    }\n",
       "</style>\n",
       "<table border=\"1\" class=\"dataframe\">\n",
       "  <thead>\n",
       "    <tr style=\"text-align: right;\">\n",
       "      <th></th>\n",
       "      <th>text</th>\n",
       "      <th>label</th>\n",
       "    </tr>\n",
       "  </thead>\n",
       "  <tbody>\n",
       "    <tr>\n",
       "      <th>0</th>\n",
       "      <td>&lt; url &gt; boston bombings : in the face of trage...</td>\n",
       "      <td>1</td>\n",
       "    </tr>\n",
       "    <tr>\n",
       "      <th>1</th>\n",
       "      <td>our service line is open for your comments, gr...</td>\n",
       "      <td>1</td>\n",
       "    </tr>\n",
       "    <tr>\n",
       "      <th>2</th>\n",
       "      <td>&lt; number &gt; babys &lt; url &gt;</td>\n",
       "      <td>0</td>\n",
       "    </tr>\n",
       "    <tr>\n",
       "      <th>3</th>\n",
       "      <td>&lt; user &gt; &lt; hashtag &gt; mecasalu ( rt )</td>\n",
       "      <td>0</td>\n",
       "    </tr>\n",
       "    <tr>\n",
       "      <th>4</th>\n",
       "      <td>itsfoodporn : s'mores stuffed cookies &lt; url &gt;</td>\n",
       "      <td>0</td>\n",
       "    </tr>\n",
       "  </tbody>\n",
       "</table>\n",
       "</div>"
      ],
      "text/plain": [
       "                                                text  label\n",
       "0  < url > boston bombings : in the face of trage...      1\n",
       "1  our service line is open for your comments, gr...      1\n",
       "2                           < number > babys < url >      0\n",
       "3               < user > < hashtag > mecasalu ( rt )      0\n",
       "4      itsfoodporn : s'mores stuffed cookies < url >      0"
      ]
     },
     "execution_count": 4,
     "metadata": {},
     "output_type": "execute_result"
    }
   ],
   "source": [
    "df.head()"
   ]
  },
  {
   "cell_type": "code",
   "execution_count": null,
   "id": "xdV0R4LSSnoR",
   "metadata": {
    "colab": {
     "base_uri": "https://localhost:8080/"
    },
    "executionInfo": {
     "elapsed": 7156810,
     "status": "ok",
     "timestamp": 1740036977351,
     "user": {
      "displayName": "Aryan Shrestha",
      "userId": "04752409712150908585"
     },
     "user_tz": 300
    },
    "id": "xdV0R4LSSnoR",
    "outputId": "7f75f747-5eae-4aee-b900-bf2c24d6e5cc"
   },
   "outputs": [
    {
     "name": "stdout",
     "output_type": "stream",
     "text": [
      "Predictions for Each Row:\n",
      "                                                    text  true_label  \\\n",
      "0      < url > boston bombings : in the face of trage...           1   \n",
      "1      our service line is open for your comments, gr...           1   \n",
      "2                               < number > babys < url >           0   \n",
      "3                   < user > < hashtag > mecasalu ( rt )           0   \n",
      "4          itsfoodporn : s'mores stuffed cookies < url >           0   \n",
      "...                                                  ...         ...   \n",
      "40925  < hashtag > iwishicould keep a dead mouse in m...           0   \n",
      "40926  on our way to < user > vs < user > see you all...           0   \n",
      "40927  < hashtag > nepal : a race against time to sav...           1   \n",
      "40928  updates < user > - in field with over < number...           1   \n",
      "40929  norfolk news local puerto ricans pray for thei...           1   \n",
      "\n",
      "       predicted_class  confidence  \n",
      "0                    1    0.999916  \n",
      "1                    1    0.999984  \n",
      "2                    0    0.999953  \n",
      "3                    0    0.999966  \n",
      "4                    0    0.999978  \n",
      "...                ...         ...  \n",
      "40925                0    0.999982  \n",
      "40926                0    0.999943  \n",
      "40927                1    0.999983  \n",
      "40928                1    0.999980  \n",
      "40929                1    0.999981  \n",
      "\n",
      "[40930 rows x 4 columns]\n",
      "Accuracy: 0.9821\n",
      "Precision: 0.9818\n",
      "Recall: 0.9826\n",
      "F1 Score: 0.9822\n"
     ]
    }
   ],
   "source": [
    "#Training our BERT model on the validation dataset\n",
    "\n",
    "from transformers import BertForSequenceClassification, AutoTokenizer\n",
    "import torch\n",
    "import torch.nn.functional as F\n",
    "from sklearn.metrics import accuracy_score, precision_score, recall_score, f1_score\n",
    "import pandas as pd\n",
    "\n",
    "# Load the model and tokenizer\n",
    "model = BertForSequenceClassification.from_pretrained('/content/drive/MyDrive/BERT_for_Disaster_Classification/Disaster_Tweets_Project/my_bert_model2/')\n",
    "tokenizer = AutoTokenizer.from_pretrained('/content/drive/MyDrive/BERT_for_Disaster_Classification/Disaster_Tweets_Project/my_bert_model2/')\n",
    "\n",
    "# Set the model to evaluation mode\n",
    "model.eval()\n",
    "\n",
    "# Define function to process the input text\n",
    "def predict(text):\n",
    "    # Tokenize the input text\n",
    "    inputs = tokenizer(text, return_tensors=\"pt\", truncation=True, padding=True, max_length=512)\n",
    "\n",
    "    # Run the model to get the logits (classification scores)\n",
    "    with torch.no_grad():\n",
    "        outputs = model(**inputs)\n",
    "        logits = outputs.logits\n",
    "\n",
    "    # Get the predicted class (e.g., 0 or 1 for binary classification)\n",
    "    predicted_class = torch.argmax(logits, dim=1).item()\n",
    "\n",
    "    # Calculate probabilities using softmax\n",
    "    probabilities = F.softmax(logits, dim=1)\n",
    "\n",
    "    # Get the confidence for the predicted class\n",
    "    confidence = probabilities[0][predicted_class].item()\n",
    "\n",
    "    return predicted_class, confidence\n",
    "\n",
    "# Prepare a list to store the results\n",
    "results = []\n",
    "\n",
    "# Prepare a list to store the predicted labels\n",
    "predicted_labels = []\n",
    "true_labels = df['label'].tolist()\n",
    "\n",
    "# Iterate over the dataset and make predictions\n",
    "for index, row in df.iterrows():\n",
    "    text = row['text']\n",
    "    true_label = row['label']\n",
    "\n",
    "    # Get the predicted class and confidence for the text\n",
    "    predicted_class, confidence = predict(text)\n",
    "\n",
    "    # Store the result for this row\n",
    "    results.append({\n",
    "        'text': text,\n",
    "        'true_label': true_label,\n",
    "        'predicted_class': predicted_class,\n",
    "        'confidence': confidence\n",
    "    })\n",
    "\n",
    "    # Append the predicted class to the list for metrics calculation\n",
    "    predicted_labels.append(predicted_class)\n",
    "\n",
    "\n",
    "# Convert results to a pandas DataFrame\n",
    "results_df = pd.DataFrame(results)\n",
    "\n",
    "# Display the results in a table format\n",
    "print(\"Predictions for Each Row:\")\n",
    "print(results_df)\n",
    "results_df.to_csv('predictions_results_bert.csv', index=False)\n",
    "\n",
    "# Calculate the evaluation metrics\n",
    "accuracy = accuracy_score(true_labels, predicted_labels)\n",
    "precision = precision_score(true_labels, predicted_labels)\n",
    "recall = recall_score(true_labels, predicted_labels)\n",
    "f1 = f1_score(true_labels, predicted_labels)\n",
    "\n",
    "# Print the metrics\n",
    "print(f\"Accuracy: {accuracy:.4f}\")\n",
    "print(f\"Precision: {precision:.4f}\")\n",
    "print(f\"Recall: {recall:.4f}\")\n",
    "print(f\"F1 Score: {f1:.4f}\")"
   ]
  },
  {
   "cell_type": "code",
   "execution_count": null,
   "id": "e6d497a7-ce6a-4db0-8d2f-1a92cfd0585c",
   "metadata": {},
   "outputs": [],
   "source": []
  }
 ],
 "metadata": {
  "accelerator": "GPU",
  "colab": {
   "gpuType": "T4",
   "provenance": []
  },
  "kernelspec": {
   "display_name": "Python 3 (ipykernel)",
   "language": "python",
   "name": "python3"
  },
  "language_info": {
   "codemirror_mode": {
    "name": "ipython",
    "version": 3
   },
   "file_extension": ".py",
   "mimetype": "text/x-python",
   "name": "python",
   "nbconvert_exporter": "python",
   "pygments_lexer": "ipython3",
   "version": "3.9.7"
  }
 },
 "nbformat": 4,
 "nbformat_minor": 5
}
